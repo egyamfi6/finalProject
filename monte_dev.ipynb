{
 "cells": [
  {
   "cell_type": "code",
   "execution_count": 1,
   "id": "27e80341-b8f6-41f3-bf8e-53205eb08efb",
   "metadata": {},
   "outputs": [],
   "source": [
    "#Development environment"
   ]
  },
  {
   "cell_type": "code",
   "execution_count": 2,
   "id": "e6d047b0-a05c-4003-b791-755b8e8ae8ed",
   "metadata": {
    "tags": []
   },
   "outputs": [],
   "source": [
    "#Name: Emmanuel Gyamfi, ID: asw4uc\n",
    "#GitHub:https://github.com/egyamfi6/\n",
    "#die.py\n",
    "\n",
    "#Import relevant libraries\n",
    "import pandas as pd\n",
    "import numpy as np\n",
    "import random\n",
    "\n",
    "#The die class\n",
    "class Die:\n",
    "    \"\"\"\n",
    "    -This is a class of a Die with 6 faces which can be rolled to select a face. \n",
    "    -The faces of the die are alphabetical letters or numeric(eg. A, B, C... or 1,2,3..) with equal weights that defaults to 1. \n",
    "    -This class contains a private dataframe that holds the faces and weights\n",
    "     and has 4 methods including the intilializer, a method to change the weight of a single side of the die, \n",
    "    -a method that that rolls the die one or more times and a method that shows the current state of the die. \n",
    "   \n",
    "    The methods in the class are:\n",
    "        __init__(),\n",
    "        change_die_weight(),\n",
    "        roll_die(),\n",
    "        die_state()\n",
    "    \"\"\"\n",
    "\n",
    "\n",
    "    # The Initializer\n",
    "    def __init__(self, theDie: np.array) -> None:  #change theDie \n",
    "       \n",
    "        \"\"\"\n",
    "        .This initializer takes a NumPy array of faces as an argument and throws a TypeError if not a NumPy array.\n",
    "        .The array’s data type may be strings or numbers.\n",
    "        .The array’s values must be distinct and if not, it raises a ValueError.\n",
    "        .It internally initializes the weights to 1.0 for each face.\n",
    "        .It saves both faces and weights in a private data frame with faces in the index.\n",
    "        \"\"\"\n",
    "        \n",
    "        if not type(theDie) is np.ndarray:                          #checks to see if die is a Numpy array\n",
    "            raise TypeError(\"The die must be of type NumPy Array!\") # throws a TypeError if die is not a Numpy array\n",
    "\n",
    "        if ( len(np.unique(theDie)) !=  len(theDie) ):                       #checks if die is unique \n",
    "            raise ValueError(f\"The die must have distinct values! {theDie}\") # throws a valueError if die is not unique\n",
    "        \n",
    "        #Build Dynamic Index\n",
    "        self.theDie = theDie\n",
    "        self._privateDataFrame: pd.DataFrame = pd.DataFrame(self.theDie, columns=['dieValue'], index=theDie.tolist())\n",
    "\n",
    "        for idx, row in self._privateDataFrame.iterrows():\n",
    "            #Modify Face Value\n",
    "            self._privateDataFrame.loc[idx] = 1.0\n",
    "          \n",
    "        "
   ]
  },
  {
   "cell_type": "code",
   "execution_count": 3,
   "id": "e31aba37-1b3a-4255-b059-f95fc2d77c4f",
   "metadata": {
    "tags": []
   },
   "outputs": [],
   "source": [
    "#  method to change die weight\n",
    "def change_die_weight(self, face_name: str, new_weight: float) -> None:\n",
    "        \"\"\"\n",
    "        .This method takes two arguments: the face value to be changed and the new weight.\n",
    "        .Checks to see if the face passed is valid value, i.e. if it is in\n",
    "        .the die array. If not, raises an `IndexError`.\n",
    "        .Checks to see if the weight is a valid type, i.e. if it is numeric\n",
    "        .(integer or float) or castable as numeric. If not, raises a `TypeError`.\n",
    "        \n",
    "        \"\"\"\n",
    "        if not (face_name in self._privateDataFrame.index):                     #checks if face name exist in die array\n",
    "             raise IndexError(f\"{face_name} does not exist in the die array: \") # raise IndexError if face name does not exist\n",
    "        if not isinstance(new_weight, (int, float)):  \n",
    "            raise TypeError(f\"new weight request must be of type integer or float: {new_weight}\") #checks if weight is numeric\n",
    "        \n",
    "        #Modify the requested die face\n",
    "        self._privateDataFrame.loc[face_name] = new_weight\n",
    "    \n",
    "    "
   ]
  },
  {
   "cell_type": "code",
   "execution_count": 4,
   "id": "ac5ca32a-4cca-4865-a9d9-1ce83bebb2f7",
   "metadata": {
    "tags": []
   },
   "outputs": [],
   "source": [
    "def roll_die(self, how_many_times: int = 1) -> list:\n",
    "        \"\"\"\n",
    "        .This method takes a parameter of how many times the die is to be rolled; defaults to 1.\n",
    "        .This is essentially a random sample with replacement, from the private die data frame, that applies the weights.\n",
    "        .Returns a Python list of outcomes.\n",
    "        .Does not store any results internally.\n",
    "        \"\"\"\n",
    "        outcomes: list = list()\n",
    "        facesList: list = self._privateDataFrame.index.to_list()\n",
    "        weightsList: list = self._privateDataFrame['dieValue'].to_list()\n",
    "\n",
    "        for roll in range(how_many_times):\n",
    "            if ( (roll+1) == how_many_times):\n",
    "                self._privateDataFrame.loc[facesList[0]:facesList[-1]] = 0.0\n",
    "                outcomes.append(random.choices(facesList, weights=weightsList, k=1)[0])\n",
    "                self._privateDataFrame.loc[outcomes[-1], 'dieValue'] = 1.0 \n",
    "            else:\n",
    "                outcomes.append(random.choices(facesList, weights=weightsList, k=1)[0])               \n",
    "        return outcomes\n",
    "    "
   ]
  },
  {
   "cell_type": "code",
   "execution_count": null,
   "id": "ce60d169-b9b1-4e3b-81f0-d0c97a3ad787",
   "metadata": {},
   "outputs": [],
   "source": []
  },
  {
   "cell_type": "code",
   "execution_count": null,
   "id": "c3ba5841-c9ca-4bc2-9505-da3ddde84812",
   "metadata": {},
   "outputs": [],
   "source": []
  },
  {
   "cell_type": "code",
   "execution_count": null,
   "id": "f5391c45-4ac9-45de-a9d7-673f904177d2",
   "metadata": {},
   "outputs": [],
   "source": []
  },
  {
   "cell_type": "code",
   "execution_count": null,
   "id": "191a7db5-7e0a-4792-8472-8dec4c5a6d1f",
   "metadata": {},
   "outputs": [],
   "source": []
  },
  {
   "cell_type": "code",
   "execution_count": null,
   "id": "0efc1e41-88f5-4a95-909a-cf2a32b43534",
   "metadata": {},
   "outputs": [],
   "source": []
  }
 ],
 "metadata": {
  "kernelspec": {
   "display_name": "Python 3 (ipykernel)",
   "language": "python",
   "name": "python3"
  },
  "language_info": {
   "codemirror_mode": {
    "name": "ipython",
    "version": 3
   },
   "file_extension": ".py",
   "mimetype": "text/x-python",
   "name": "python",
   "nbconvert_exporter": "python",
   "pygments_lexer": "ipython3",
   "version": "3.11.4"
  }
 },
 "nbformat": 4,
 "nbformat_minor": 5
}
