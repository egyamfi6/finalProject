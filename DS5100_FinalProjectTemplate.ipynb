{
 "cells": [
  {
   "cell_type": "markdown",
   "id": "45762487-d33f-486d-8e38-2cdea04e3528",
   "metadata": {},
   "source": [
    "# Final Project Report\n",
    "\n",
    "* Class: DS 5100\n",
    "* Student Name: Emmanuel Gyamfi\n",
    "* Student Net ID: asw4uc\n",
    "* This URL: https://github.com/egyamfi6/finalProject"
   ]
  },
  {
   "cell_type": "markdown",
   "id": "acf756c1-ecaa-41dc-b6ca-d566eb94560b",
   "metadata": {},
   "source": [
    "# Instructions\n",
    "\n",
    "Follow the instructions in the Final Project isntructions notebook and put evidence of your work in this notebook.\n",
    "\n",
    "Total points for each subsection under **Deliverables** and **Scenarios** are given in parentheses.\n",
    "\n",
    "Breakdowns of points within subsections are specified within subsection instructions as bulleted lists.\n",
    "\n",
    "This project is worth **50 points**."
   ]
  },
  {
   "cell_type": "markdown",
   "id": "89dc7a32-f682-4402-8c1e-b6ccdb3e0e39",
   "metadata": {},
   "source": [
    "# Deliverables"
   ]
  },
  {
   "cell_type": "markdown",
   "id": "d32cb273-9a40-4909-a7ce-51f6e4958d3c",
   "metadata": {},
   "source": [
    "## The Montecarlodie module (10)\n",
    "\n",
    "- URL included, appropriately named (1).\n",
    "- Includes all three specified classes (3).\n",
    "- Includes at least all 12 specified methods (6; .5 each)."
   ]
  },
  {
   "cell_type": "markdown",
   "id": "f5f3b070-de9e-4de9-bfae-8974d184aa28",
   "metadata": {},
   "source": [
    "Paste the URL to your GitHub repo here.\n",
    "\n",
    "Repo URL: https://github.com/egyamfi6/finalProject"
   ]
  },
  {
   "cell_type": "markdown",
   "id": "162370fb-3729-4c85-b040-8c25b2c966d2",
   "metadata": {},
   "source": [
    "Paste a copy of your module here.\n",
    "\n",
    "NOTE: Paste as text, not as code. Use triple backticks to wrap your code blocks."
   ]
  },
  {
   "cell_type": "code",
   "execution_count": null,
   "id": "0fc9d5e7-5b5e-4ac0-8760-fafe6a760a08",
   "metadata": {},
   "outputs": [],
   "source": []
  },
  {
   "cell_type": "markdown",
   "id": "a999e6a4-5605-48ee-8d46-b43824f7f0ee",
   "metadata": {
    "editable": true,
    "jp-MarkdownHeadingCollapsed": true,
    "slideshow": {
     "slide_type": ""
    },
    "tags": []
   },
   "source": [
    "## die.py\n",
    "<code>\n",
    "#Import relevant libraries\n",
    "import pandas as pd\n",
    "import numpy as np\n",
    "import random\n",
    "\n",
    "\n",
    "#The die class\n",
    "class Die:\n",
    "    \"\"\"\n",
    "    -This is a class of a Die with 6 faces which can be rolled to select a face. \n",
    "    -The faces of the die are alphabetical letters or numeric(eg. A, B, C... or 1,2,3..) with equal weights that defaults to 1. \n",
    "    -This class contains a private dataframe that holds the faces and weights\n",
    "     and has 4 methods including the intilializer, a method to change the weight of a single side of the die, \n",
    "    -a method that that rolls the die one or more times and a method that shows the current state of the die. \n",
    "   \n",
    "    The methods in the class are:\n",
    "        __init__(),\n",
    "        change_die_weight(),\n",
    "        roll_die(),\n",
    "        die_state()\n",
    "    \"\"\"\n",
    "\n",
    "\n",
    "    # The Initializer\n",
    "    def __init__(self, dieParam: np.array) -> None: \n",
    "       \n",
    "        \"\"\"\n",
    "        .This initializer takes a NumPy array of faces as an argument and throws a TypeError if not a NumPy array.\n",
    "        .The array’s data type may be strings or numbers.\n",
    "        .The array’s values must be distinct and if not, it raises a ValueError.\n",
    "        .It internally initializes the weights to 1.0 for each face.\n",
    "        .It saves both faces and weights in a private data frame with faces in the index.\n",
    "        \"\"\"\n",
    "        \n",
    "        if not type(dieParam) is np.ndarray:                          #checks to see if die is a Numpy array\n",
    "            raise TypeError(\"The die must be of type NumPy Array!\") # throws a TypeError if die is not a Numpy array\n",
    "\n",
    "        if (len(np.unique(dieParam)) !=  len(dieParam)):                       #checks if die is unique \n",
    "            raise ValueError(f\"The die must have distinct values! {dieParam}\") # throws a valueError if die is not unique\n",
    "        \n",
    "        #Build Dynamic Index\n",
    "        self.dieParam = dieParam\n",
    "        self._privateDataFrame: pd.DataFrame = pd.DataFrame(self.dieParam, columns=['dieValue'], index=dieParam.tolist())\n",
    "\n",
    "        for idx, row in self._privateDataFrame.iterrows():\n",
    "            #Modify Face Value\n",
    "            self._privateDataFrame.loc[idx] = 1.0\n",
    "          \n",
    "        \n",
    "    #  method to change die weight\n",
    "    def change_die_weight(self, face_name: str, new_weight: float) -> None:\n",
    "        \"\"\"\n",
    "        .This method takes two arguments: the face value to be changed and the new weight.\n",
    "        .Checks to see if the face passed is valid value, i.e. if it is in\n",
    "        .the die array. If not, raises an `IndexError`.\n",
    "        .Checks to see if the weight is a valid type, i.e. if it is numeric\n",
    "        .(integer or float) or castable as numeric. If not, raises a `TypeError`.\n",
    "        \n",
    "        \"\"\"\n",
    "        if not (face_name in self._privateDataFrame.index):                     #checks if face name exist in die array\n",
    "             raise IndexError(f\"{face_name} does not exist in the die array: \") # raise IndexError if face name does not exist\n",
    "        if not isinstance(new_weight, (int, float)):  \n",
    "            raise TypeError(f\"new weight request must be of type integer or float: {new_weight}\") #checks if weight is numeric\n",
    "        \n",
    "        #Modify the requested die face\n",
    "        self._privateDataFrame.loc[face_name] = new_weight\n",
    "    \n",
    "    \n",
    "    # method to roll a die \"roll_die\"\n",
    "    def roll_die(self, how_many_times: int = 1) -> list:\n",
    "        \"\"\"\n",
    "        .This method takes a parameter of how many times the die is to be rolled; defaults to 1.\n",
    "        .This is essentially a random sample with replacement, from the private die data frame, that applies the weights.\n",
    "        .Returns a Python list of outcomes.\n",
    "        .Does not store any results internally.\n",
    "        \"\"\"\n",
    "        outcomes: list = list()\n",
    "        facesList: list = self._privateDataFrame.index.to_list()\n",
    "        weightsList: list = self._privateDataFrame['dieValue'].to_list()\n",
    "\n",
    "        for roll in range(how_many_times):\n",
    "            if ( (roll+1) == how_many_times):\n",
    "                self._privateDataFrame.loc[facesList[0]:facesList[-1]] = 0.0\n",
    "                outcomes.append(random.choices(facesList, weights=weightsList, k=1)[0])\n",
    "                self._privateDataFrame.loc[outcomes[-1], 'dieValue'] = 1.0 \n",
    "            else:\n",
    "                outcomes.append(random.choices(facesList, weights=weightsList, k=1)[0])               \n",
    "        return outcomes\n",
    "    \n",
    "    # a method to get the die_state\n",
    "    def die_state(self) -> pd.DataFrame:\n",
    "        \"\"\"\n",
    "        This method takes no arguments and returns a copy of the private data frame\n",
    "        \"\"\"\n",
    "        return self._privateDataFrame\n",
    "    \n",
    "    \n",
    "if __name__ == '__main__':\n",
    "\n",
    "    # The Die\n",
    "    dieArray: np.array = np.array(['A', 'B', 'C', 'D', 'E', 'F'], dtype=str)\n",
    "\n",
    "</code>\n",
    "\n",
    "## game.py\n",
    "<code>\n",
    "#import relevant libraries\n",
    "import pandas as pd\n",
    "import numpy as np\n",
    "from die import Die\n",
    "\n",
    "\n",
    "# create the Game class\n",
    "class Game:\n",
    "    \"\"\"\n",
    "    .This game class consists of rolling one or more similar dice (Die objects) one or more times.\n",
    "    .Each die in a given game has the same number of sides and associated faces but may have its own weight.\n",
    "    .Each game is initialized with a Python list that contains one or more dice.\n",
    "    .Game objects have a behavior to play a game, i.e. to roll all of the dice a given number of times.\n",
    "    .Game objects only keep the results of their most recent play.\n",
    "    \n",
    "    .The methods in ths class are:\n",
    "        play() \n",
    "        playResults()\n",
    "    \"\"\"\n",
    "\n",
    "    # create the initializer for the Game class\n",
    "    def __init__(self, Dice: list[Die]) -> None: #change Dice to my own\n",
    "        \"\"\"\n",
    "        .This initializes the Game class.\n",
    "        .This Takes only one parameter, which is a list of already instantiated similar dice.\n",
    "        .Does not check if the passed parameter is a list and does not check if the list is a die object.\n",
    "        .Ouput: None- returns nothing. \n",
    "        \"\"\"\n",
    "       \n",
    "        if not type(Dice) is list:\n",
    "            raise TypeError(\"The container for the dice must be of type list!\") \n",
    "\n",
    "        #List items must be Die Objects\n",
    "        for item in Dice:\n",
    "            if not isinstance(item, Die):\n",
    "                raise TypeError(f\"List element: {item} is not of type {Die.__name__} !\")\n",
    "        \n",
    "        self.Dice = Dice\n",
    "\n",
    "        #Use this empty dictionay object for private pandas dataFrame\n",
    "        emptyDict = {'RollNum': [],\n",
    "        'DieId': [],\n",
    "        'DieValue': []}\n",
    "\n",
    "        self._privateGameDataFrame: pd.DataFrame = pd.DataFrame(emptyDict)\n",
    "\n",
    "        \n",
    "        #All Die objects in list must have the same number of faces\n",
    "        checkCoinFaces: bool = all(len(x.die_state()) == 2 for x in Dice)   #Two Face Coin\n",
    "        checkDieFaces: bool = all(len(x.die_state()) == 6 for x in Dice)   #Six Face Die\n",
    "        checkAlphaDieFaces: bool = all(len(x.die_state()) == 26 for x in Dice)   #Alphabet Face Die\n",
    "\n",
    "        #Raise error if die objects do not have the same number of faces\n",
    "        if checkCoinFaces == False and checkDieFaces == False and checkAlphaDieFaces == False:\n",
    "            raise ValueError(f\"All Die objects in list must have the same number of faces!\")\n",
    "        \n",
    "    \n",
    "    def play(self, how_many_rolls: int) -> None:\n",
    "        \n",
    "        \"\"\"\n",
    "        .This method takes an integer parameter to specify how many times the dice should be rolled.\n",
    "        .It saves the result of the play to a private data frame.\n",
    "        .The data frame should be in wide format, i.e. have the roll number as a named index, \n",
    "        .columns for each die number (using its list index as the column name), and the face rolled in that instance in each cell.\n",
    "        .Returns nothing\n",
    "        \"\"\"\n",
    "\n",
    "        print(f\"Entering method play: Number of requested rolls ({how_many_rolls})\\n\") \n",
    "\n",
    "        print(f\"Number of Die in play: {len(self.Dice)}\")             \n",
    "\n",
    "\n",
    "        allDieRollResults: list = []\n",
    "\n",
    "        dieID: int = 1\n",
    "        for item in self.Dice:\n",
    "            dieRoll: list = item.roll_die(how_many_rolls)\n",
    "            dieRollResults: list = [(i + 1, dieID, dieRoll[i]) for i in range(len(dieRoll))]\n",
    "            allDieRollResults = allDieRollResults + dieRollResults\n",
    "            dieID += 1\n",
    "\n",
    "        #Save Results to private Dataframe with newly generated list\n",
    "        self._privateGameDataFrame = pd.DataFrame(allDieRollResults, columns=['RollNum', 'DieId', 'DieValue'])\n",
    "\n",
    "\n",
    "\n",
    "    def playResults(self, df_frame_type: str = 'w') -> pd.DataFrame:\n",
    "        \n",
    "        \"\"\"\n",
    "        \n",
    "        .This method just returns a copy of the private play data frame to the user.\n",
    "        .Takes a parameter to return the data frame in narrow or wide form which defaults to wide form.\n",
    "        .The narrow form will have a MultiIndex, comprising the roll number and the die number (in that order), \n",
    "          and a single column with the outcomes (i.e. the face rolled).\n",
    "        .This method raises a ValueError if the user passes an invalid option for narrow or wide.\n",
    "        \"\"\"\n",
    "\n",
    "        if (df_frame_type != \"w\") and (df_frame_type != \"n\"):\n",
    "            raise ValueError(f\"invalid option for (n)arrow or (w)ide: {df_frame_type}\\n\")\n",
    "\n",
    "        if df_frame_type == \"w\":\n",
    "            return self._privateGameDataFrame.pivot(index='RollNum', columns='DieId', values='DieValue')\n",
    "        elif df_frame_type == \"n\":\n",
    "            return self._privateGameDataFrame.set_index(['RollNum', 'DieId'])\n",
    "            \n",
    "\n",
    "if __name__ == '__main__':\n",
    "\n",
    "    # The Die\n",
    "    DieOne: np.array = np.array(['A', 'B', 'C', 'D', 'E', 'F'], dtype=str)\n",
    "    DieTwo: np.array = np.array(['A', 'B', 'C', 'D', 'E', 'F'], dtype=str)\n",
    "    DieThree: np.array = np.array(['A', 'B', 'C', 'D', 'E', 'F'], dtype=str)\n",
    "   \n",
    "</code>\n",
    "\n",
    "## analyzer.py\n",
    "<code>\n",
    "#import relevant libraries\n",
    "import pandas as pd\n",
    "import numpy as np\n",
    "from die import Die\n",
    "from game import Game\n",
    "\n",
    "\n",
    "# create the Analyzer class\n",
    "class Analyzer:\n",
    "    \"\"\"\n",
    "    .This Analyzer object takes the results of a single game and computes various descriptive statistics on them.\n",
    "    .It has 4 methods. \n",
    "\n",
    "    The methods in the Analyzer class are:\n",
    "        jackpots() \n",
    "        dieFaceCounter()\n",
    "        dieComboCounter()\n",
    "        diePermutationCounter()\n",
    "    \"\"\"\n",
    "    \n",
    "    #the initializer \n",
    "    def __init__(self, gameParam: Game) -> None:\n",
    "        \"\"\"\n",
    "        .This initializer takes a game object as its input parameter. \n",
    "        .It throws a ValueError if the passed value is not a Game object.\n",
    "        .It does not return any value.\n",
    "        \n",
    "        \"\"\"\n",
    "        print(type(gameParam))\n",
    "        if not type(gameParam) is Game:                                #checks if parameter passed is a game\n",
    "            raise ValueError(\"The parameter must be of type Game!\")  # raise a valueError if parameter is not a game\n",
    "        self.gameParam = gameParam\n",
    "\n",
    "    #the jackpot method\n",
    "    def jackpots(self) -> int:\n",
    "        \n",
    "        \"\"\"\n",
    "        .This method computes how many times the game resulted in a jackpot.\n",
    "        .A jackpot is a result in which all faces are the same, e.g. all ones for a six-sided die.\n",
    "        .Returns an integer for the number of jackpots.\n",
    "        \"\"\"\n",
    "        numberOfJackpots: int = 0\n",
    "\n",
    "        #Load play Results\n",
    "        diePlayResultsFrame: pd.DataFrame = self.gameParam.playResults(\"w\")\n",
    "        print(f\"The DataFrame to examine for jackpot notifications: \\n{diePlayResultsFrame}\")\n",
    "\n",
    "        #Check all rows in this dataframe\n",
    "        rowsInDataFrame: int = len(diePlayResultsFrame)\n",
    "       \n",
    "        for rowIdx in range(1,rowsInDataFrame + 1):\n",
    "            duplicates: pd.Series = diePlayResultsFrame.loc[rowIdx].duplicated()\n",
    "            num_duplicates: np.int64 = duplicates.sum()\n",
    "           \n",
    "            if len(diePlayResultsFrame.loc[rowIdx]) == num_duplicates + 1:\n",
    "                #We have a jackpot\n",
    "                numberOfJackpots += 1\n",
    "        \n",
    "        return numberOfJackpots\n",
    "\n",
    "    #the die face counter method\n",
    "    def dieFaceCounter(self) -> pd.DataFrame:\n",
    "        \n",
    "        \"\"\"\n",
    "        .Computes how many times a given face is rolled in each event.\n",
    "        .For example, if a roll of five dice has all sixes, then the counts for this roll would be  5\n",
    "        .for the face value ‘6’ and  0 for the other faces.\n",
    "        .It returns a data frame of results.\n",
    "        .The data frame has an index of the roll number, face values as columns, \n",
    "        .and count values in the cells (i.e. it is in wide format).\n",
    "        \"\"\"\n",
    "\n",
    "        df_ForFaceCounts: pd.DataFrame = self.gameParam.playResults(\"w\").apply(pd.Series.value_counts, axis=1).fillna(0).astype(int)\n",
    "        df_ForFaceCounts.index.name = \"RollNum\" #index of the game\n",
    "        return df_ForFaceCounts                 #returns a data.frame\n",
    "\n",
    "\n",
    "    # the combo counter method\n",
    "    def dieComboCounter(self) -> pd.DataFrame:\n",
    "        \n",
    "        \"\"\"\n",
    "        .This method computes the distinct combinations of faces rolled, along with their counts.\n",
    "        .The combinations are order-independent and may contain repetitions.\n",
    "        .The method returns a dataframe of results,\n",
    "        .The data frame should have a MultiIndex of distinct combinations and a column for the associated counts.\n",
    "        \"\"\"\n",
    "         #Load play Results\n",
    "        diePlayResultsFrame: pd.DataFrame = self.gameParam.playResults(\"w\")\n",
    "        dfMultiIndex: pd.DataFrame = diePlayResultsFrame.apply(lambda x: pd.Series(sorted(x)), 1).value_counts().to_frame('Frequency')\n",
    "        dfMultiIndex.index.names = [\"DieFace:\"+str(i) for i in range(1, len(diePlayResultsFrame.columns.to_list())+1)]\n",
    "        return dfMultiIndex\n",
    "    \n",
    "\n",
    "    # a method to count the die permutations\n",
    "    def diePermutationCounter(self) -> pd.DataFrame:\n",
    "        \n",
    "        \"\"\"\n",
    "        .This method computes the distinct permutations of faces rolled, along with their counts.\n",
    "        .Permutations are order-dependent and may contain repetitions.\n",
    "        .It returns a data frame of results.\n",
    "        .The data frame should have a MultiIndex of distinct permutations and a column for the associated counts.\n",
    "        .Permutations are order-dependent and may contain repetitions.\n",
    "        .The data frame should have a MultiIndex of distinct permutations and a column for the associated counts\n",
    "        \"\"\"\n",
    "\n",
    "        #Load play Results\n",
    "        diePlayResultsFrame: pd.DataFrame = self.gameParam.playResults(\"w\")\n",
    "\n",
    "        dfMultiIndex = diePlayResultsFrame.set_index(diePlayResultsFrame.columns.to_list(), append=True)\n",
    "        dfMultiIdxPermCnt = dfMultiIndex.groupby(diePlayResultsFrame.columns.to_list()).size().to_frame(\"Frequency\")\n",
    "        return dfMultiIdxPermCnt\n",
    "\n",
    "       \n",
    "\n",
    "if __name__ == '__main__':\n",
    "\n",
    "</code>\n",
    " \n",
    "     "
   ]
  },
  {
   "cell_type": "markdown",
   "id": "6377727a-8f0a-491e-9f1c-d9dc225edd35",
   "metadata": {},
   "source": [
    "## Unitest Module (2)\n",
    "\n",
    "Paste a copy of your test module below.\n",
    "\n",
    "NOTE: Paste as text, not as code. Use triple backticks to wrap your code blocks.\n",
    "\n",
    "- All methods have at least one test method (1).\n",
    "- Each method employs one of Unittest's Assert methods (1)."
   ]
  },
  {
   "cell_type": "markdown",
   "id": "2be77995-b1dd-401f-87ba-e75686bb386d",
   "metadata": {},
   "source": [
    "## die_test.py\n",
    "\n",
    "<code>\n",
    "#import relevant libraries\n",
    "from die import Die\n",
    "import unittest\n",
    "import numpy as np\n",
    "\n",
    "\n",
    "\n",
    "results: str = \"\"  # Create global variable to capture results when necessary\n",
    "\n",
    "class DieTestSuite(unittest.TestCase):\n",
    "    def test_1_check_distinct_die_weights(self): \n",
    "        with self.assertRaises(ValueError):\n",
    "            #Generate ValueError by passing numpy array argument that contains a set of non-distinct items  \n",
    "            dieArray: np.array = np.array(['A', 'A', 'C', 'D', 'E', 'F'], dtype=str)\n",
    "            myDieInstance: Die = Die(dieArray)\n",
    "\n",
    "    def test_2_change_die_weight(self): \n",
    "        \n",
    "        with self.assertRaises(IndexError):\n",
    "            dieArray: np.array = np.array(['A', 'B', 'C', 'D', 'E', 'F'], dtype=str)\n",
    "            myDieInstance: Die = Die(dieArray)\n",
    "            #Generate IndexError by passing a non-existent face_name argument\n",
    "            myDieInstance.change_die_weight('G', .30) # G face does not exist and should trigger an error\n",
    "\n",
    "    def test_3_change_die_weight(self): \n",
    "        with self.assertRaises(TypeError):\n",
    "            dieArray: np.array = np.array(['A', 'B', 'C', 'D', 'E', 'F'], dtype=str)\n",
    "            myDieInstance: Die = Die(dieArray)\n",
    "            #Generate TypeError by passing new weight argument as a string\n",
    "            myDieInstance.change_die_weight('C', '30')  #since weight is not of type float, this should trigger an error\n",
    "\n",
    "\n",
    "        \n",
    "if __name__ == '__main__':\n",
    "    unittest.main(verbosity=3)\n",
    "\n",
    "</code>\n",
    "\n",
    "\n",
    "## game_test.py\n",
    "<code>\n",
    "\n",
    "from game import Game\n",
    "import unittest\n",
    "import numpy as np\n",
    "from die import Die\n",
    "\n",
    "\n",
    "\n",
    "results: str = \"\" # variable to capture results\n",
    "\n",
    "class GameTestSuite(unittest.TestCase):\n",
    "  \n",
    "    def test_1_check_is_container_list(self): \n",
    "\n",
    "        with self.assertRaises(TypeError):\n",
    "        #Generate TypeError by passing a set object\n",
    "            DieOne: np.array = np.array(['A', 'B', 'C', 'D', 'E', 'F'], dtype=str)\n",
    "\n",
    "            dieOneInstance: Die = Die(DieOne)\n",
    "\n",
    "            diceList: set = ((dieOneInstance))\n",
    "            Game(diceList)\n",
    "\n",
    "    def test_2_check_if_die_object(self): \n",
    "\n",
    "        with self.assertRaises(TypeError):\n",
    "        #Generate TypeError by passing a set object\n",
    "            DieOne: np.array = np.array(['A', 'B', 'C', 'D', 'E', 'F'], dtype=str)\n",
    "            DieTwo: np.array = np.array(['A', 'B', 'C', 'D', 'E', 'F'], dtype=str)\n",
    "            DieThree: np.array = np.array(['A', 'B', 'C', 'D', 'E', 'F'], dtype=str)\n",
    "\n",
    "            diceList: set = [DieOne, DieTwo, DieThree]\n",
    "            Game(diceList)\n",
    "\n",
    "\n",
    "    def test_3_change_die_weight(self): \n",
    "\n",
    "    \n",
    "        with self.assertRaises(ValueError):\n",
    "            #Generate ValueError by passing an invalid option for narrow or wide\n",
    "            listDieOne: np.array = np.array(['A', 'B', 'C', 'D', 'E', 'F'], dtype=str)\n",
    "            listDieTwo: np.array = np.array(['A', 'B', 'C', 'D', 'E', 'F'], dtype=str)\n",
    "            listDieThree: np.array = np.array(['A', 'B', 'C', 'D', 'E', 'F'], dtype=str)\n",
    "\n",
    "            dieOneInstance: Die = Die(listDieOne)\n",
    "            dieTwoInstance: Die = Die(listDieTwo)\n",
    "            dieThreeInstance: Die = Die(listDieThree)\n",
    "\n",
    "\n",
    "            #Manage Die weighting\n",
    "            dieOneInstance.change_die_weight('B', .40)\n",
    "            dieTwoInstance.change_die_weight('B', .30)\n",
    "            dieThreeInstance.change_die_weight('B', .20)\n",
    "\n",
    "            diceList: list = [dieOneInstance, dieTwoInstance, dieThreeInstance]\n",
    "            myInstance: Game = Game(diceList)\n",
    "\n",
    "            #Let it roll!\n",
    "            myInstance.play(2)\n",
    "\n",
    "            #The Results\n",
    "            myInstance.playResults(\"x\")\n",
    "\n",
    "    \n",
    "    def test_4_check_die_faces(self): \n",
    "\n",
    "    \n",
    "        with self.assertRaises(ValueError):\n",
    "            \n",
    "            #Generate ValueError if all die have the same faces\n",
    "            \n",
    "            # The Die\n",
    "            listDieOne: np.array = np.array(['A', 'B', 'C', 'D', 'E', 'F'], dtype=str)\n",
    "            listDieTwo: np.array = np.array(['A', 'B', 'C', 'D', 'E', 'F'], dtype=str)\n",
    "            listDieThree: np.array = np.array(['A', 'B', 'C', 'D', 'E', 'F'], dtype=str)\n",
    "            listDieFour: np.array = np.array(['A', 'B'], dtype=str)\n",
    "\n",
    "            dieOneInstance: Die = Die(listDieOne)\n",
    "            dieTwoInstance: Die = Die(listDieTwo)\n",
    "            dieThreeInstance: Die = Die(listDieThree)\n",
    "            dieFourInstance: Die = Die(listDieFour)\n",
    "\n",
    "            #Manage Die weighting\n",
    "            dieOneInstance.change_die_weight('B', .40)\n",
    "            dieTwoInstance.change_die_weight('B', .30)\n",
    "            dieThreeInstance.change_die_weight('B', .20)\n",
    "\n",
    "            diceList: list = [dieOneInstance, dieTwoInstance, dieThreeInstance, dieFourInstance]\n",
    "            myInstance: Game = Game(diceList)\n",
    "\n",
    "            #Let it roll!\n",
    "            myInstance.play(2)\n",
    "\n",
    "            #The Results\n",
    "            myInstance.playResults(\"x\")\n",
    "\n",
    "\n",
    "    \n",
    "if __name__ == '__main__':\n",
    "    unittest.main(verbosity=3)\n",
    "\n",
    "</code>\n",
    "\n",
    "\n",
    "## analyzer_test.py\n",
    "<code>\n",
    "#import relevant libraries\n",
    "from analyzer import Analyzer\n",
    "import unittest\n",
    "import numpy as np\n",
    "\n",
    "from die import Die\n",
    "from game import Game\n",
    "\n",
    "\n",
    "\n",
    "\n",
    "results: str = \"\"  # variable to capture results\n",
    "\n",
    "class AnalyzeTestSuite(unittest.TestCase):\n",
    "  \n",
    "    def test_1_check_is_game_object(self): \n",
    "\n",
    "        with self.assertRaises(ValueError):\n",
    "            #Generate ValueError by passing an invalid game object\n",
    "            # The Die\n",
    "            DieOne: np.array = np.array(['A', 'B', 'C', 'D', 'E', 'F'], dtype=str)\n",
    "            DieTwo: np.array = np.array(['A', 'B', 'C', 'D', 'E', 'F'], dtype=str)\n",
    "            DieThree: np.array = np.array(['A', 'B', 'C', 'D', 'E', 'F'], dtype=str)\n",
    "\n",
    "            dieOneInstance: Die = Die(DieOne)\n",
    "            dieTwoInstance: Die = Die(DieTwo)\n",
    "            dieThreeInstance: Die = Die(DieThree)\n",
    "\n",
    "            #Manage Die weighting\n",
    "            dieOneInstance.change_die_weight('B', .20)\n",
    "            dieTwoInstance.change_die_weight('B', .20)\n",
    "            dieThreeInstance.change_die_weight('B', .20)\n",
    "\n",
    "            diceList: list = [dieOneInstance, dieTwoInstance, dieThreeInstance]\n",
    "\n",
    "            myErrorInstance: list = list(diceList)\n",
    "            \n",
    "            myAnalyerErr: Analyzer = Analyzer(myErrorInstance)\n",
    "\n",
    "                    \n",
    "\n",
    "if __name__ == '__main__':\n",
    "    unittest.main(verbosity=3)\n",
    "</code>"
   ]
  },
  {
   "cell_type": "markdown",
   "id": "3e058d03-29bc-408f-b36d-0605b4f4b8c0",
   "metadata": {
    "tags": []
   },
   "source": [
    "## Unittest Results (3)\n",
    "\n",
    "Put a copy of the results of running your tests from the command line here.\n",
    "\n",
    "Again, paste as text using triple backticks.\n",
    "\n",
    "- All 12 specified methods return OK (3; .25 each)."
   ]
  },
  {
   "cell_type": "code",
   "execution_count": 5,
   "id": "e091a3a3-799e-4469-8a2a-58d23333f0dc",
   "metadata": {
    "tags": []
   },
   "outputs": [
    {
     "name": "stdout",
     "output_type": "stream",
     "text": [
      "test_1_check_distinct_die_weights (__main__.DieTestSuite.test_1_check_distinct_die_weights) ... ok\n",
      "test_2_change_die_weight (__main__.DieTestSuite.test_2_change_die_weight) ... ok\n",
      "test_3_change_die_weight (__main__.DieTestSuite.test_3_change_die_weight) ... ok\n",
      "\n",
      "----------------------------------------------------------------------\n",
      "Ran 3 tests in 0.003s\n",
      "\n",
      "OK\n"
     ]
    }
   ],
   "source": [
    "# Testing the Die class\n",
    "!python /home/asw4uc/finalProject/montecarlodie/die_test.py"
   ]
  },
  {
   "cell_type": "code",
   "execution_count": 4,
   "id": "068d0f45-c9ac-48d8-99e0-a21ebca1da9c",
   "metadata": {
    "tags": []
   },
   "outputs": [
    {
     "name": "stdout",
     "output_type": "stream",
     "text": [
      "test_1_check_is_container_list (__main__.GameTestSuite.test_1_check_is_container_list) ... ok\n",
      "test_2_check_if_die_object (__main__.GameTestSuite.test_2_check_if_die_object) ... ok\n",
      "test_3_change_die_weight (__main__.GameTestSuite.test_3_change_die_weight) ... Entering method play: Number of requested rolls (2)\n",
      "\n",
      "Number of Die in play: 3\n",
      "ok\n",
      "test_4_check_die_faces (__main__.GameTestSuite.test_4_check_die_faces) ... ok\n",
      "\n",
      "----------------------------------------------------------------------\n",
      "Ran 4 tests in 0.007s\n",
      "\n",
      "OK\n"
     ]
    }
   ],
   "source": [
    "#Test the Game class\n",
    "!python /home/asw4uc/finalProject/montecarlodie/game_test.py"
   ]
  },
  {
   "cell_type": "code",
   "execution_count": 7,
   "id": "cda2bb5c-0504-4835-8610-09d8a0a81b15",
   "metadata": {
    "tags": []
   },
   "outputs": [
    {
     "name": "stdout",
     "output_type": "stream",
     "text": [
      "test_1_check_is_game_object (__main__.AnalyzeTestSuite.test_1_check_is_game_object) ... <class 'list'>\n",
      "ok\n",
      "\n",
      "----------------------------------------------------------------------\n",
      "Ran 1 test in 0.002s\n",
      "\n",
      "OK\n"
     ]
    }
   ],
   "source": [
    "# Tes the Analyzer class\n",
    "!python /home/asw4uc/finalProject/montecarlodie/analyzer_test.py"
   ]
  },
  {
   "cell_type": "markdown",
   "id": "d9ffe8c5-eb2f-4ad1-af76-a46550e4c7ac",
   "metadata": {},
   "source": [
    "## Import (1)\n",
    "\n",
    "Import your module here. This import should refer to the code in your package directory.\n",
    "\n",
    "- Module successuflly imported (1)."
   ]
  },
  {
   "cell_type": "code",
   "execution_count": 35,
   "id": "a9c769ee-3bc9-4a99-aac4-b3aab37722ee",
   "metadata": {
    "tags": []
   },
   "outputs": [],
   "source": [
    "# importing the montecarlo module\n",
    "from montecarlodie.die import Die\n",
    "from montecarlodie.game import Game\n",
    "from montecarlodie.analyzer import Analyzer"
   ]
  },
  {
   "cell_type": "markdown",
   "id": "f30c4842-65b1-4556-98b6-3fe1a07e1371",
   "metadata": {},
   "source": [
    "## Help Docs (4)\n",
    "\n",
    "Show your docstring documentation by applying `help()` to your imported module.\n",
    "\n",
    "- All methods have a docstring (3; .25 each).\n",
    "- All classes have a docstring (1; .33 each)."
   ]
  },
  {
   "cell_type": "code",
   "execution_count": 36,
   "id": "bf4fbf1f-9885-471c-a0a6-e9ca90e160de",
   "metadata": {
    "tags": []
   },
   "outputs": [
    {
     "name": "stdout",
     "output_type": "stream",
     "text": [
      "Help on class Die in module montecarlodie.die:\n",
      "\n",
      "class Die(builtins.object)\n",
      " |  Die(dieParam: <built-in function array>) -> None\n",
      " |  \n",
      " |  -This is a class of a Die with 6 faces which can be rolled to select a face. \n",
      " |  -The faces of the die are alphabetical letters or numeric(eg. A, B, C... or 1,2,3..) with equal weights that defaults to 1. \n",
      " |  -This class contains a private dataframe that holds the faces and weights\n",
      " |   and has 4 methods including the intilializer, a method to change the weight of a single side of the die, \n",
      " |  -a method that that rolls the die one or more times and a method that shows the current state of the die. \n",
      " |  \n",
      " |  The methods in the class are:\n",
      " |      __init__(),\n",
      " |      change_die_weight(),\n",
      " |      roll_die(),\n",
      " |      die_state()\n",
      " |  \n",
      " |  Methods defined here:\n",
      " |  \n",
      " |  __init__(self, dieParam: <built-in function array>) -> None\n",
      " |      .This initializer takes a NumPy array of faces as an argument and throws a TypeError if not a NumPy array.\n",
      " |      .The array’s data type may be strings or numbers.\n",
      " |      .The array’s values must be distinct and if not, it raises a ValueError.\n",
      " |      .It internally initializes the weights to 1.0 for each face.\n",
      " |      .It saves both faces and weights in a private data frame with faces in the index.\n",
      " |  \n",
      " |  change_die_weight(self, face_name: str, new_weight: float) -> None\n",
      " |      .This method takes two arguments: the face value to be changed and the new weight.\n",
      " |      .Checks to see if the face passed is valid value, i.e. if it is in\n",
      " |      .the die array. If not, raises an `IndexError`.\n",
      " |      .Checks to see if the weight is a valid type, i.e. if it is numeric\n",
      " |      .(integer or float) or castable as numeric. If not, raises a `TypeError`.\n",
      " |  \n",
      " |  die_state(self) -> pandas.core.frame.DataFrame\n",
      " |      This method takes no arguments and returns a copy of the private data frame\n",
      " |  \n",
      " |  roll_die(self, how_many_times: int = 1) -> list\n",
      " |      .This method takes a parameter of how many times the die is to be rolled; defaults to 1.\n",
      " |      .This is essentially a random sample with replacement, from the private die data frame, that applies the weights.\n",
      " |      .Returns a Python list of outcomes.\n",
      " |      .Does not store any results internally.\n",
      " |  \n",
      " |  ----------------------------------------------------------------------\n",
      " |  Data descriptors defined here:\n",
      " |  \n",
      " |  __dict__\n",
      " |      dictionary for instance variables (if defined)\n",
      " |  \n",
      " |  __weakref__\n",
      " |      list of weak references to the object (if defined)\n",
      "\n"
     ]
    }
   ],
   "source": [
    "help(Die)"
   ]
  },
  {
   "cell_type": "code",
   "execution_count": 37,
   "id": "258ec58b-1593-42e8-8856-72fd3479aaa6",
   "metadata": {
    "tags": []
   },
   "outputs": [
    {
     "name": "stdout",
     "output_type": "stream",
     "text": [
      "Help on class Game in module montecarlodie.game:\n",
      "\n",
      "class Game(builtins.object)\n",
      " |  Game(Dice: list[montecarlodie.die.Die]) -> None\n",
      " |  \n",
      " |  .This game class consists of rolling one or more similar dice (Die objects) one or more times.\n",
      " |  .Each die in a given game has the same number of sides and associated faces but may have its own weight.\n",
      " |  .Each game is initialized with a Python list that contains one or more dice.\n",
      " |  .Game objects have a behavior to play a game, i.e. to roll all of the dice a given number of times.\n",
      " |  .Game objects only keep the results of their most recent play.\n",
      " |  \n",
      " |  .The methods in ths class are:\n",
      " |      play() \n",
      " |      playResults()\n",
      " |  \n",
      " |  Methods defined here:\n",
      " |  \n",
      " |  __init__(self, Dice: list[montecarlodie.die.Die]) -> None\n",
      " |      .This initializes the Game class.\n",
      " |      .This Takes only one parameter, which is a list of already instantiated similar dice.\n",
      " |      .Does not check if the passed parameter is a list and does not check if the list is a die object.\n",
      " |      .Ouput: None- returns nothing.\n",
      " |  \n",
      " |  play(self, how_many_rolls: int) -> None\n",
      " |      .This method takes an integer parameter to specify how many times the dice should be rolled.\n",
      " |      .It saves the result of the play to a private data frame.\n",
      " |      .The data frame should be in wide format, i.e. have the roll number as a named index, \n",
      " |      .columns for each die number (using its list index as the column name), and the face rolled in that instance in each cell.\n",
      " |      .Returns nothing\n",
      " |  \n",
      " |  playResults(self, df_frame_type: str = 'w') -> pandas.core.frame.DataFrame\n",
      " |      .This method just returns a copy of the private play data frame to the user.\n",
      " |      .Takes a parameter to return the data frame in narrow or wide form which defaults to wide form.\n",
      " |      .The narrow form will have a MultiIndex, comprising the roll number and the die number (in that order), \n",
      " |        and a single column with the outcomes (i.e. the face rolled).\n",
      " |      .This method raises a ValueError if the user passes an invalid option for narrow or wide.\n",
      " |  \n",
      " |  ----------------------------------------------------------------------\n",
      " |  Data descriptors defined here:\n",
      " |  \n",
      " |  __dict__\n",
      " |      dictionary for instance variables (if defined)\n",
      " |  \n",
      " |  __weakref__\n",
      " |      list of weak references to the object (if defined)\n",
      "\n"
     ]
    }
   ],
   "source": [
    "help(Game)"
   ]
  },
  {
   "cell_type": "code",
   "execution_count": 38,
   "id": "7899a642-8760-4675-8ab4-43138ab04f99",
   "metadata": {
    "tags": []
   },
   "outputs": [
    {
     "name": "stdout",
     "output_type": "stream",
     "text": [
      "Help on class Analyzer in module montecarlodie.analyzer:\n",
      "\n",
      "class Analyzer(builtins.object)\n",
      " |  Analyzer(gameParam: montecarlodie.game.Game) -> None\n",
      " |  \n",
      " |  .This Analyzer object takes the results of a single game and computes various descriptive statistics on them.\n",
      " |  .It has 4 methods. \n",
      " |  \n",
      " |  The methods in the Analyzer class are:\n",
      " |      jackpots() \n",
      " |      dieFaceCounter()\n",
      " |      dieComboCounter()\n",
      " |      diePermutationCounter()\n",
      " |  \n",
      " |  Methods defined here:\n",
      " |  \n",
      " |  __init__(self, gameParam: montecarlodie.game.Game) -> None\n",
      " |      .This initializer takes a game object as its input parameter. \n",
      " |      .It throws a ValueError if the passed value is not a Game object.\n",
      " |      .It does not return any value.\n",
      " |  \n",
      " |  dieComboCounter(self) -> pandas.core.frame.DataFrame\n",
      " |      .This method computes the distinct combinations of faces rolled, along with their counts.\n",
      " |      .The combinations are order-independent and may contain repetitions.\n",
      " |      .The method returns a dataframe of results,\n",
      " |      .The data frame should have a MultiIndex of distinct combinations and a column for the associated counts.\n",
      " |  \n",
      " |  dieFaceCounter(self) -> pandas.core.frame.DataFrame\n",
      " |      .Computes how many times a given face is rolled in each event.\n",
      " |      .For example, if a roll of five dice has all sixes, then the counts for this roll would be  5\n",
      " |      .for the face value ‘6’ and  0 for the other faces.\n",
      " |      .It returns a data frame of results.\n",
      " |      .The data frame has an index of the roll number, face values as columns, \n",
      " |      .and count values in the cells (i.e. it is in wide format).\n",
      " |  \n",
      " |  diePermutationCounter(self) -> pandas.core.frame.DataFrame\n",
      " |      .This method computes the distinct permutations of faces rolled, along with their counts.\n",
      " |      .Permutations are order-dependent and may contain repetitions.\n",
      " |      .It returns a data frame of results.\n",
      " |      .The data frame should have a MultiIndex of distinct permutations and a column for the associated counts.\n",
      " |      .Permutations are order-dependent and may contain repetitions.\n",
      " |      .The data frame should have a MultiIndex of distinct permutations and a column for the associated counts\n",
      " |  \n",
      " |  jackpots(self) -> int\n",
      " |      .This method computes how many times the game resulted in a jackpot.\n",
      " |      .A jackpot is a result in which all faces are the same, e.g. all ones for a six-sided die.\n",
      " |      .Returns an integer for the number of jackpots.\n",
      " |  \n",
      " |  ----------------------------------------------------------------------\n",
      " |  Data descriptors defined here:\n",
      " |  \n",
      " |  __dict__\n",
      " |      dictionary for instance variables (if defined)\n",
      " |  \n",
      " |  __weakref__\n",
      " |      list of weak references to the object (if defined)\n",
      "\n"
     ]
    }
   ],
   "source": [
    "help(Analyzer)"
   ]
  },
  {
   "cell_type": "markdown",
   "id": "a9defa84-b395-4966-bd1c-5c6c2bb7ed68",
   "metadata": {},
   "source": [
    "## `README.md` File (3)\n",
    "\n",
    "Provide link to the README.md file of your project's repo.\n",
    "\n",
    "- Metadata section or info present (1).\n",
    "- Synopsis section showing how each class is called (1). (All must be included.)\n",
    "- API section listing all classes and methods (1). (All must be included.)"
   ]
  },
  {
   "cell_type": "markdown",
   "id": "ee090b33-d593-48a0-bf35-e739cea0942c",
   "metadata": {},
   "source": [
    "URL:https://github.com/egyamfi6/finalProject/blob/main/README.md"
   ]
  },
  {
   "cell_type": "markdown",
   "id": "108604c8-8827-42ef-ab59-6b25428fc0ca",
   "metadata": {},
   "source": [
    "## Successful installation (2)\n",
    "\n",
    "Put a screenshot or paste a copy of a terminal session where you successfully install your module with pip.\n",
    "\n",
    "If pasting text, use a preformatted text block to show the results.\n",
    "\n",
    "- Installed with `pip` (1).\n",
    "- Successfully installed message appears (1)."
   ]
  },
  {
   "cell_type": "code",
   "execution_count": 40,
   "id": "3263dfe5-d1e0-4e01-acf5-d6366ed2a7a9",
   "metadata": {
    "tags": []
   },
   "outputs": [
    {
     "name": "stdout",
     "output_type": "stream",
     "text": [
      "Defaulting to user installation because normal site-packages is not writeable\n",
      "Obtaining file:///home/asw4uc/finalProject\n",
      "  Preparing metadata (setup.py) ... \u001b[?25ldone\n",
      "\u001b[?25hRequirement already satisfied: Numpy in /apps/software/standard/core/jupyterlab/3.6.3-py3.11/lib/python3.11/site-packages (from MonteCarlo-Die-Simulator==0.1.0) (1.24.4)\n",
      "Requirement already satisfied: Pandas in /apps/software/standard/core/jupyterlab/3.6.3-py3.11/lib/python3.11/site-packages (from MonteCarlo-Die-Simulator==0.1.0) (2.0.3)\n",
      "Requirement already satisfied: python-dateutil>=2.8.2 in /apps/software/standard/core/jupyterlab/3.6.3-py3.11/lib/python3.11/site-packages (from Pandas->MonteCarlo-Die-Simulator==0.1.0) (2.8.2)\n",
      "Requirement already satisfied: pytz>=2020.1 in /apps/software/standard/core/jupyterlab/3.6.3-py3.11/lib/python3.11/site-packages (from Pandas->MonteCarlo-Die-Simulator==0.1.0) (2023.3)\n",
      "Requirement already satisfied: tzdata>=2022.1 in /apps/software/standard/core/jupyterlab/3.6.3-py3.11/lib/python3.11/site-packages (from Pandas->MonteCarlo-Die-Simulator==0.1.0) (2023.3)\n",
      "Requirement already satisfied: six>=1.5 in /apps/software/standard/core/jupyterlab/3.6.3-py3.11/lib/python3.11/site-packages (from python-dateutil>=2.8.2->Pandas->MonteCarlo-Die-Simulator==0.1.0) (1.16.0)\n",
      "Installing collected packages: MonteCarlo-Die-Simulator\n",
      "  Attempting uninstall: MonteCarlo-Die-Simulator\n",
      "    Found existing installation: MonteCarlo-Die-Simulator 0.1.0\n",
      "    Uninstalling MonteCarlo-Die-Simulator-0.1.0:\n",
      "      Successfully uninstalled MonteCarlo-Die-Simulator-0.1.0\n",
      "  Running setup.py develop for MonteCarlo-Die-Simulator\n",
      "Successfully installed MonteCarlo-Die-Simulator-0.1.0\n"
     ]
    }
   ],
   "source": [
    "!pip install -e /home/asw4uc/finalProject"
   ]
  },
  {
   "cell_type": "markdown",
   "id": "7c44695d-d1b3-4edf-9f94-e64d7446f199",
   "metadata": {},
   "source": [
    "# Scenarios\n",
    "\n",
    "Use code blocks to perform the tasks for each scenario.\n",
    "\n",
    "Be sure the outputs are visible before submitting."
   ]
  },
  {
   "cell_type": "markdown",
   "id": "e2479eae-6fc9-44cd-b8d7-9b22cb501f2a",
   "metadata": {
    "tags": []
   },
   "source": [
    "## Scenario 1: A 2-headed Coin (9)\n",
    "\n",
    "Task 1. Create a fair coin (with faces $H$ and $T$) and one unfair coin in which one of the faces has a weight of $5$ and the others $1$.\n",
    "\n",
    "- Fair coin created (1).\n",
    "- Unfair coin created with weight as specified (1)."
   ]
  },
  {
   "cell_type": "code",
   "execution_count": 41,
   "id": "55ce498e-c75f-4425-9e3e-b635bd6cd9e1",
   "metadata": {
    "tags": []
   },
   "outputs": [
    {
     "name": "stdout",
     "output_type": "stream",
     "text": [
      "Fair Coin State: \n",
      "  dieValue\n",
      "H      0.5\n",
      "T      1.0\n",
      "UnFair Coin State: \n",
      "  dieValue\n",
      "H      0.6\n",
      "T      1.0\n"
     ]
    }
   ],
   "source": [
    "import numpy as np\n",
    "\n",
    "# The Coin\n",
    "myCoin: np.array = np.array(['H', 'T'], dtype=str)\n",
    "\n",
    "# Instantiate the Die class\n",
    "myCoinInstance: Die = Die(myCoin)\n",
    "\n",
    "#Fair Coin\n",
    "myCoinInstance.change_die_weight('H', .50)\n",
    "print(f\"Fair Coin State: \\n{myCoinInstance.die_state()}\")\n",
    "\n",
    "#Unfair Coin\n",
    "myCoinInstance.change_die_weight('H', .60)\n",
    "print(f\"UnFair Coin State: \\n{myCoinInstance.die_state()}\")"
   ]
  },
  {
   "cell_type": "markdown",
   "id": "02b272ab-99da-4b6e-ac2a-555b73e09c07",
   "metadata": {},
   "source": [
    "Task 2. Play a game of $1000$ flips with two fair dice.\n",
    "\n",
    "- Play method called correclty and without error (1)."
   ]
  },
  {
   "cell_type": "code",
   "execution_count": 43,
   "id": "65c92601-d32d-4326-b215-74953aee27f2",
   "metadata": {
    "tags": []
   },
   "outputs": [
    {
     "name": "stdout",
     "output_type": "stream",
     "text": [
      "Entering method play: Number of requested rolls (1000)\n",
      "\n",
      "Number of Die in play: 2\n"
     ]
    }
   ],
   "source": [
    "import numpy as np\n",
    "\n",
    "# The Die\n",
    "DieOne: np.array = np.array(['A', 'B', 'C', 'D', 'E', 'F'], dtype=str)\n",
    "DieTwo: np.array = np.array(['A', 'B', 'C', 'D', 'E', 'F'], dtype=str)\n",
    "\n",
    "dieOneInstance: Die = Die(DieOne)\n",
    "dieTwoInstance: Die = Die(DieTwo)\n",
    "\n",
    "diceList: list = [dieOneInstance, dieTwoInstance]\n",
    "myInstance: Game = Game(diceList)\n",
    "\n",
    "#Let it roll!\n",
    "myInstance.play(1000)"
   ]
  },
  {
   "cell_type": "markdown",
   "id": "7d9c3dc8-22c1-4cae-81fb-d68d774a05d1",
   "metadata": {},
   "source": [
    "Task 3. Play another game (using a new Game object) of $1000$ flips, this time using two unfair dice and one fair die. For the second unfair die, you can use the same die object twice in the list of dice you pass to the Game object.\n",
    "\n",
    "- New game object created (1).\n",
    "- Play method called correclty and without error (1)."
   ]
  },
  {
   "cell_type": "code",
   "execution_count": 45,
   "id": "d4098bed-1eb2-4084-8d5e-9fda07c3be43",
   "metadata": {
    "tags": []
   },
   "outputs": [
    {
     "name": "stdout",
     "output_type": "stream",
     "text": [
      "Entering method play: Number of requested rolls (1000)\n",
      "\n",
      "Number of Die in play: 2\n",
      "Entering method play: Number of requested rolls (1000)\n",
      "\n",
      "Number of Die in play: 2\n"
     ]
    }
   ],
   "source": [
    "import numpy as np\n",
    "\n",
    "# The Die\n",
    "DieOne: np.array = np.array(['A', 'B', 'C', 'D', 'E', 'F'], dtype=str)\n",
    "DieTwo: np.array = np.array(['A', 'B', 'C', 'D', 'E', 'F'], dtype=str)\n",
    "\n",
    "dieOneInstance: Die = Die(DieOne)\n",
    "dieTwoInstance: Die = Die(DieTwo)\n",
    "\n",
    "diceList: list = [dieOneInstance, dieTwoInstance]\n",
    "myInstance: Game = Game(diceList)\n",
    "myInstance2: Game = Game(diceList)\n",
    "\n",
    "#Let it roll!\n",
    "myInstance.play(1000)\n",
    "myInstance2.play(1000)"
   ]
  },
  {
   "cell_type": "markdown",
   "id": "f690ebfc-fe71-4eb2-976d-7ac80ca6c23f",
   "metadata": {},
   "source": [
    "Task 4. For each game, use an Analyzer object to determine the raw frequency of jackpots — i.e. getting either all $H$s or all $T$s.\n",
    "\n",
    "- Analyzer objecs instantiated for both games (1).\n",
    "- Raw frequencies reported for both (1)."
   ]
  },
  {
   "cell_type": "code",
   "execution_count": 46,
   "id": "b26b8b7e-3be7-4476-a9a4-37d97536729e",
   "metadata": {
    "tags": []
   },
   "outputs": [
    {
     "name": "stdout",
     "output_type": "stream",
     "text": [
      "<class 'montecarlodie.game.Game'>\n",
      "<class 'montecarlodie.game.Game'>\n",
      "The DataFrame to examine for jackpot notifications: \n",
      "DieId    1  2\n",
      "RollNum      \n",
      "1        A  F\n",
      "2        D  C\n",
      "3        C  C\n",
      "4        D  F\n",
      "5        C  D\n",
      "...     .. ..\n",
      "996      E  E\n",
      "997      C  F\n",
      "998      E  A\n",
      "999      C  D\n",
      "1000     E  A\n",
      "\n",
      "[1000 rows x 2 columns]\n",
      "Number of jackpots Game 1? \n",
      "160\n",
      "The DataFrame to examine for jackpot notifications: \n",
      "DieId    1  2\n",
      "RollNum      \n",
      "1        E  A\n",
      "2        E  A\n",
      "3        E  A\n",
      "4        E  A\n",
      "5        E  A\n",
      "...     .. ..\n",
      "996      E  A\n",
      "997      E  A\n",
      "998      E  A\n",
      "999      E  A\n",
      "1000     E  A\n",
      "\n",
      "[1000 rows x 2 columns]\n",
      "Number of jackpots Game 2? \n",
      "0\n"
     ]
    }
   ],
   "source": [
    "#Using the myInstance object from task 3\n",
    "myAnalyzerInstance: Analyzer = Analyzer(myInstance)\n",
    "myAnalyzerInstance2: Analyzer = Analyzer(myInstance2)\n",
    "\n",
    "#Jackot Information\n",
    "print(f\"Number of jackpots Game 1? \\n{myAnalyzerInstance.jackpots()}\")\n",
    "print(f\"Number of jackpots Game 2? \\n{myAnalyzerInstance2.jackpots()}\")"
   ]
  },
  {
   "cell_type": "markdown",
   "id": "b73d233c-445e-40cd-8858-0c5e1f097105",
   "metadata": {},
   "source": [
    "Task 5. For each analyzer, compute relative frequency as the number of jackpots over the total number of rolls.\n",
    "\n",
    "- Both relative frequencies computed (1)."
   ]
  },
  {
   "cell_type": "code",
   "execution_count": 47,
   "id": "9a96b31b-1b9d-496e-be3e-4bf83c45ec3a",
   "metadata": {
    "tags": []
   },
   "outputs": [
    {
     "name": "stdout",
     "output_type": "stream",
     "text": [
      "Entering method play: Number of requested rolls (1000)\n",
      "\n",
      "Number of Die in play: 3\n",
      "Entering method play: Number of requested rolls (1000)\n",
      "\n",
      "Number of Die in play: 3\n",
      "Entering method play: Number of requested rolls (1000)\n",
      "\n",
      "Number of Die in play: 3\n",
      "Entering method play: Number of requested rolls (1000)\n",
      "\n",
      "Number of Die in play: 3\n",
      "<class 'montecarlodie.game.Game'>\n",
      "<class 'montecarlodie.game.Game'>\n",
      "<class 'montecarlodie.game.Game'>\n",
      "<class 'montecarlodie.game.Game'>\n",
      "Games List: ['Game1', 'Game2', 'Game3', 'Game4']\n",
      "The DataFrame to examine for jackpot notifications: \n",
      "DieId    1  2  3\n",
      "RollNum         \n",
      "1        E  D  E\n",
      "2        F  E  D\n",
      "3        D  A  A\n",
      "4        F  C  B\n",
      "5        F  C  F\n",
      "...     .. .. ..\n",
      "996      A  A  B\n",
      "997      C  B  F\n",
      "998      E  F  A\n",
      "999      F  A  B\n",
      "1000     E  F  B\n",
      "\n",
      "[1000 rows x 3 columns]\n",
      "The DataFrame to examine for jackpot notifications: \n",
      "DieId    1  2  3\n",
      "RollNum         \n",
      "1        E  F  B\n",
      "2        E  F  B\n",
      "3        E  F  B\n",
      "4        E  F  B\n",
      "5        E  F  B\n",
      "...     .. .. ..\n",
      "996      E  F  B\n",
      "997      E  F  B\n",
      "998      E  F  B\n",
      "999      E  F  B\n",
      "1000     E  F  B\n",
      "\n",
      "[1000 rows x 3 columns]\n",
      "The DataFrame to examine for jackpot notifications: \n",
      "DieId    1  2  3\n",
      "RollNum         \n",
      "1        E  F  B\n",
      "2        E  F  B\n",
      "3        E  F  B\n",
      "4        E  F  B\n",
      "5        E  F  B\n",
      "...     .. .. ..\n",
      "996      E  F  B\n",
      "997      E  F  B\n",
      "998      E  F  B\n",
      "999      E  F  B\n",
      "1000     E  F  B\n",
      "\n",
      "[1000 rows x 3 columns]\n",
      "The DataFrame to examine for jackpot notifications: \n",
      "DieId    1  2  3\n",
      "RollNum         \n",
      "1        E  F  B\n",
      "2        E  F  B\n",
      "3        E  F  B\n",
      "4        E  F  B\n",
      "5        E  F  B\n",
      "...     .. .. ..\n",
      "996      E  F  B\n",
      "997      E  F  B\n",
      "998      E  F  B\n",
      "999      E  F  B\n",
      "1000     E  F  B\n",
      "\n",
      "[1000 rows x 3 columns]\n",
      "Jackpots List: [30, 0, 0, 0]\n"
     ]
    },
    {
     "data": {
      "image/png": "[encoded data removed]",
      "text/plain": [
       "<Figure size 640x480 with 1 Axes>"
      ]
     },
     "metadata": {},
     "output_type": "display_data"
    }
   ],
   "source": [
    "import numpy as np\n",
    "import matplotlib.pyplot as plt\n",
    "\n",
    "# The Die\n",
    "DieOne: np.array = np.array(['A', 'B', 'C', 'D', 'E', 'F'], dtype=str)\n",
    "DieTwo: np.array = np.array(['A', 'B', 'C', 'D', 'E', 'F'], dtype=str)\n",
    "DieThree: np.array = np.array(['A', 'B', 'C', 'D', 'E', 'F'], dtype=str)\n",
    "\n",
    "dieOneInstance: Die = Die(DieOne)\n",
    "dieTwoInstance: Die = Die(DieTwo)\n",
    "dieThreeInstance: Die = Die(DieThree)\n",
    "\n",
    "#Manage Die weighting\n",
    "dieOneInstance.change_die_weight('B', .40)\n",
    "dieTwoInstance.change_die_weight('B', .30)\n",
    "\n",
    "diceList: list = [dieOneInstance, dieTwoInstance, dieThreeInstance]\n",
    "\n",
    "gameOne: Game = Game(diceList)\n",
    "gameTwo: Game = Game(diceList)\n",
    "gameThree: Game = Game(diceList)\n",
    "gameFour: Game = Game(diceList)\n",
    "\n",
    "#Game on!\n",
    "gameOne.play(1000)\n",
    "gameTwo.play(1000)\n",
    "gameThree.play(1000)\n",
    "gameFour.play(1000)\n",
    "\n",
    "gameOneAnalyzerInstance: Analyzer = Analyzer(gameOne)\n",
    "gameTwoAnalyzerInstance: Analyzer = Analyzer(gameTwo)\n",
    "gameThreeAnalyzerInstance: Analyzer = Analyzer(gameThree)\n",
    "gameFourAnalyzerInstance: Analyzer = Analyzer(gameFour)\n",
    "\n",
    "#Build Game Analyzer List\n",
    "games: list = ['Game1', 'Game2', 'Game3', 'Game4']\n",
    "print(f\"Games List: {games}\")\n",
    "\n",
    "#Build Jackpot List\n",
    "#print(f\"Number of jackpots? \\n{myAnalyzerInstance.jackpots()}\")\n",
    "jackpotsPerGame: list = [gameOneAnalyzerInstance.jackpots(), gameTwoAnalyzerInstance.jackpots(), gameThreeAnalyzerInstance.jackpots(), gameFourAnalyzerInstance.jackpots()]\n",
    "print(f\"Jackpots List: {jackpotsPerGame}\")\n",
    "\n",
    "plt.bar(games, jackpotsPerGame)\n",
    "plt.title('Chance Rollers Jackpots')\n",
    "plt.xlabel('Games')\n",
    "plt.ylabel('Jackpots')\n",
    "plt.show()\n"
   ]
  },
  {
   "cell_type": "markdown",
   "id": "a6e1e734-7f5c-4721-8ba4-2f3a424cf984",
   "metadata": {},
   "source": [
    "Task 6. Show your results, comparing the two relative frequencies, in a simple bar chart.\n",
    "\n",
    "- Bar chart plotted and correct (1)."
   ]
  },
  {
   "cell_type": "code",
   "execution_count": 48,
   "id": "473fa67c-aa53-4aa3-a0b7-e8772b3f6ed3",
   "metadata": {
    "tags": []
   },
   "outputs": [
    {
     "name": "stdout",
     "output_type": "stream",
     "text": [
      "<class 'montecarlodie.game.Game'>\n",
      "<class 'montecarlodie.game.Game'>\n",
      "The DataFrame to examine for jackpot notifications: \n",
      "DieId    1  2\n",
      "RollNum      \n",
      "1        A  F\n",
      "2        D  C\n",
      "3        C  C\n",
      "4        D  F\n",
      "5        C  D\n",
      "...     .. ..\n",
      "996      E  E\n",
      "997      C  F\n",
      "998      E  A\n",
      "999      C  D\n",
      "1000     E  A\n",
      "\n",
      "[1000 rows x 2 columns]\n",
      "Number of jackpots Game 1? \n",
      "160\n",
      "The DataFrame to examine for jackpot notifications: \n",
      "DieId    1  2\n",
      "RollNum      \n",
      "1        E  A\n",
      "2        E  A\n",
      "3        E  A\n",
      "4        E  A\n",
      "5        E  A\n",
      "...     .. ..\n",
      "996      E  A\n",
      "997      E  A\n",
      "998      E  A\n",
      "999      E  A\n",
      "1000     E  A\n",
      "\n",
      "[1000 rows x 2 columns]\n",
      "Number of jackpots Game 2? \n",
      "0\n",
      "The DataFrame to examine for jackpot notifications: \n",
      "DieId    1  2\n",
      "RollNum      \n",
      "1        A  F\n",
      "2        D  C\n",
      "3        C  C\n",
      "4        D  F\n",
      "5        C  D\n",
      "...     .. ..\n",
      "996      E  E\n",
      "997      C  F\n",
      "998      E  A\n",
      "999      C  D\n",
      "1000     E  A\n",
      "\n",
      "[1000 rows x 2 columns]\n",
      "The DataFrame to examine for jackpot notifications: \n",
      "DieId    1  2\n",
      "RollNum      \n",
      "1        E  A\n",
      "2        E  A\n",
      "3        E  A\n",
      "4        E  A\n",
      "5        E  A\n",
      "...     .. ..\n",
      "996      E  A\n",
      "997      E  A\n",
      "998      E  A\n",
      "999      E  A\n",
      "1000     E  A\n",
      "\n",
      "[1000 rows x 2 columns]\n"
     ]
    },
    {
     "data": {
      "image/png": "[encoded data removed]",
      "text/plain": [
       "<Figure size 640x480 with 1 Axes>"
      ]
     },
     "metadata": {},
     "output_type": "display_data"
    }
   ],
   "source": [
    "#Using the myInstance object from task 3\n",
    "myAnalyzerInstance: Analyzer = Analyzer(myInstance)\n",
    "myAnalyzerInstance2: Analyzer = Analyzer(myInstance2)\n",
    "\n",
    "#Jackot Information\n",
    "print(f\"Number of jackpots Game 1? \\n{myAnalyzerInstance.jackpots()}\")\n",
    "print(f\"Number of jackpots Game 2? \\n{myAnalyzerInstance2.jackpots()}\")\n",
    "\n",
    "#Build Game Analyzer List\n",
    "games: list = ['Game1', 'Game2']\n",
    "\n",
    "#Build Jackpot List\n",
    "jackpotsPerGame: list = [myAnalyzerInstance.jackpots(), myAnalyzerInstance2.jackpots()]\n",
    "\n",
    "plt.bar(games, jackpotsPerGame)\n",
    "plt.title('Montecarlo Jackpots')\n",
    "plt.xlabel('Game Number')\n",
    "plt.ylabel('Number of Jackpots')\n",
    "plt.show()"
   ]
  },
  {
   "cell_type": "markdown",
   "id": "725cfa5b-e4b7-47c9-86aa-8d9e1fe6c8c7",
   "metadata": {},
   "source": [
    "## Scenario 2: A 6-sided Die (9)\n",
    "\n",
    "Task 1. Create three dice, each with six sides having the faces 1 through 6.\n",
    "\n",
    "- Three die objects created (1)."
   ]
  },
  {
   "cell_type": "code",
   "execution_count": 49,
   "id": "6a8bc611-325a-4e05-88d5-980e0a2cf7c5",
   "metadata": {
    "tags": []
   },
   "outputs": [],
   "source": [
    "# The Die\n",
    "DieOne: np.array = np.array(['A', 'B', 'C', 'D', 'E', 'F'], dtype=str)\n",
    "DieTwo: np.array = np.array(['A', 'B', 'C', 'D', 'E', 'F'], dtype=str)\n",
    "DieThree: np.array = np.array(['A', 'B', 'C', 'D', 'E', 'F'], dtype=str)\n",
    "\n",
    "dieOneInstance: Die = Die(DieOne)\n",
    "dieTwoInstance: Die = Die(DieTwo)\n",
    "dieThreeInstance: Die = Die(DieThree)"
   ]
  },
  {
   "cell_type": "markdown",
   "id": "2ed3ad26-fbe9-43bd-9ad7-f683a4191d12",
   "metadata": {},
   "source": [
    "Task 2. Convert one of the dice to an unfair one by weighting the face $6$ five times more than the other weights (i.e. it has weight of 5 and the others a weight of 1 each).\n",
    "\n",
    "- Unfair die created with proper call to weight change method (1)."
   ]
  },
  {
   "cell_type": "code",
   "execution_count": 50,
   "id": "e33dd18f-7f90-456d-a680-61c08a328e21",
   "metadata": {
    "tags": []
   },
   "outputs": [],
   "source": [
    "#Manage Die weighting\n",
    "dieOneInstance.change_die_weight('F', .83)"
   ]
  },
  {
   "cell_type": "markdown",
   "id": "7f6c062a-4c5b-45b9-96b8-76a0354c7e47",
   "metadata": {},
   "source": [
    "Task 3. Convert another of the dice to be unfair by weighting the face $1$ five times more than the others.\n",
    "\n",
    "- Unfair die created with proper call to weight change method (1)."
   ]
  },
  {
   "cell_type": "code",
   "execution_count": 51,
   "id": "01133a4e-6b06-4246-8d90-8e6d6995be51",
   "metadata": {
    "tags": []
   },
   "outputs": [],
   "source": [
    "#Manage Die weight\n",
    "dieTwoInstance.change_die_weight('A', .83)"
   ]
  },
  {
   "cell_type": "markdown",
   "id": "f0ed31cb-0a3c-4eb2-b85e-6ed6b2eb6e58",
   "metadata": {},
   "source": [
    "Task 4. Play a game of $10000$ rolls with $5$ fair dice.\n",
    "\n",
    "- Game class properly instantiated (1). \n",
    "- Play method called properly (1)."
   ]
  },
  {
   "cell_type": "code",
   "execution_count": 52,
   "id": "e92395a4-9ed8-4cb0-8c85-38768a784ffc",
   "metadata": {
    "tags": []
   },
   "outputs": [
    {
     "name": "stdout",
     "output_type": "stream",
     "text": [
      "Entering method play: Number of requested rolls (10000)\n",
      "\n",
      "Number of Die in play: 5\n"
     ]
    }
   ],
   "source": [
    "# The Die\n",
    "DieOne: np.array = np.array(['A', 'B', 'C', 'D', 'E', 'F'], dtype=str)\n",
    "DieTwo: np.array = np.array(['A', 'B', 'C', 'D', 'E', 'F'], dtype=str)\n",
    "DieThree: np.array = np.array(['A', 'B', 'C', 'D', 'E', 'F'], dtype=str)\n",
    "DieFour: np.array = np.array(['A', 'B', 'C', 'D', 'E', 'F'], dtype=str)\n",
    "DieFive: np.array = np.array(['A', 'B', 'C', 'D', 'E', 'F'], dtype=str)\n",
    "\n",
    "dieOneInstance: Die = Die(DieOne)\n",
    "dieTwoInstance: Die = Die(DieTwo)\n",
    "dieThreeInstance: Die = Die(DieThree)\n",
    "dieFourInstance: Die = Die(DieFour)\n",
    "dieFiveInstance: Die = Die(DieFive)\n",
    "\n",
    "diceList: list = [dieOneInstance, dieTwoInstance, dieThreeInstance, dieFourInstance, dieFiveInstance]\n",
    "myGameOneInstance: Game = Game(diceList)\n",
    "\n",
    "#Let it roll!\n",
    "myGameOneInstance.play(10000)"
   ]
  },
  {
   "cell_type": "markdown",
   "id": "7814b402-46a4-40e5-8141-20e05c3e646b",
   "metadata": {},
   "source": [
    "Task 5. Play another game of $10000$ rolls, this time with $2$ unfair dice, one as defined in steps #2 and #3 respectively, and $3$ fair dice.\n",
    "\n",
    "- Game class properly instantiated (1). \n",
    "- Play method called properly (1)."
   ]
  },
  {
   "cell_type": "code",
   "execution_count": 53,
   "id": "7cd58fba-b2a5-4d5d-bc6d-2a7a68d18c4f",
   "metadata": {
    "tags": []
   },
   "outputs": [
    {
     "name": "stdout",
     "output_type": "stream",
     "text": [
      "Entering method play: Number of requested rolls (10000)\n",
      "\n",
      "Number of Die in play: 5\n"
     ]
    }
   ],
   "source": [
    "# The Die\n",
    "DieOne: np.array = np.array(['A', 'B', 'C', 'D', 'E', 'F'], dtype=str)\n",
    "DieTwo: np.array = np.array(['A', 'B', 'C', 'D', 'E', 'F'], dtype=str)\n",
    "DieThree: np.array = np.array(['A', 'B', 'C', 'D', 'E', 'F'], dtype=str)\n",
    "DieFour: np.array = np.array(['A', 'B', 'C', 'D', 'E', 'F'], dtype=str)\n",
    "DieFive: np.array = np.array(['A', 'B', 'C', 'D', 'E', 'F'], dtype=str)\n",
    "\n",
    "dieOneInstance: Die = Die(DieOne)\n",
    "dieTwoInstance: Die = Die(DieTwo)\n",
    "dieThreeInstance: Die = Die(DieThree)\n",
    "dieFourInstance: Die = Die(DieFour)\n",
    "dieFiveInstance: Die = Die(DieFive)\n",
    "\n",
    "#Manage Die weighting\n",
    "dieOneInstance.change_die_weight('F', .83)\n",
    "dieTwoInstance.change_die_weight('A', .83)\n",
    "\n",
    "diceList: list = [dieOneInstance, dieTwoInstance, dieThreeInstance, dieFourInstance, dieFiveInstance]\n",
    "myGameTwoInstance: Game = Game(diceList)\n",
    "\n",
    "#Let it roll!\n",
    "myGameTwoInstance.play(10000)"
   ]
  },
  {
   "cell_type": "markdown",
   "id": "7b6cd372-2bb8-4df8-ade1-8f48bc300955",
   "metadata": {},
   "source": [
    "Task 6. For each game, use an Analyzer object to determine the relative frequency of jackpots and show your results, comparing the two relative frequencies, in a simple bar chart.\n",
    "\n",
    "- Jackpot methods called (1).\n",
    "- Graph produced (1)."
   ]
  },
  {
   "cell_type": "code",
   "execution_count": 54,
   "id": "bbdcf695-8937-406e-9b53-aa0b9ee3c59a",
   "metadata": {
    "tags": []
   },
   "outputs": [
    {
     "name": "stdout",
     "output_type": "stream",
     "text": [
      "<class 'montecarlodie.game.Game'>\n",
      "<class 'montecarlodie.game.Game'>\n",
      "Games List: ['Game1', 'Game2']\n",
      "The DataFrame to examine for jackpot notifications: \n",
      "DieId    1  2  3  4  5\n",
      "RollNum               \n",
      "1        B  F  E  A  F\n",
      "2        E  D  B  E  B\n",
      "3        A  D  A  E  F\n",
      "4        A  A  A  E  D\n",
      "5        C  C  A  F  F\n",
      "...     .. .. .. .. ..\n",
      "9996     C  E  E  F  C\n",
      "9997     E  E  D  C  B\n",
      "9998     D  D  B  D  F\n",
      "9999     C  B  F  B  B\n",
      "10000    C  A  A  E  C\n",
      "\n",
      "[10000 rows x 5 columns]\n",
      "The DataFrame to examine for jackpot notifications: \n",
      "DieId    1  2  3  4  5\n",
      "RollNum               \n",
      "1        E  A  B  D  D\n",
      "2        C  D  C  E  C\n",
      "3        F  C  F  D  E\n",
      "4        F  A  E  B  D\n",
      "5        F  F  C  E  E\n",
      "...     .. .. .. .. ..\n",
      "9996     A  F  F  E  C\n",
      "9997     F  B  A  D  F\n",
      "9998     A  A  A  D  B\n",
      "9999     E  E  C  D  B\n",
      "10000    E  F  C  D  E\n",
      "\n",
      "[10000 rows x 5 columns]\n",
      "Jackpots List: [9, 12]\n"
     ]
    },
    {
     "data": {
      "image/png": "[encoded data removed]",
      "text/plain": [
       "<Figure size 640x480 with 1 Axes>"
      ]
     },
     "metadata": {},
     "output_type": "display_data"
    }
   ],
   "source": [
    "gameOneAnalyzerInstance: Analyzer = Analyzer(myGameOneInstance)\n",
    "gameTwoAnalyzerInstance: Analyzer = Analyzer(myGameTwoInstance)\n",
    "\n",
    "#Build Game Analyzer List\n",
    "games: list = ['Game1', 'Game2']\n",
    "print(f\"Games List: {games}\")\n",
    "#Build Jackpot List\n",
    "#print(f\"Number of jackpots? \\n{myAnalyzerInstance.jackpots()}\")\n",
    "jackpotsPerGame: list = [gameOneAnalyzerInstance.jackpots(), gameTwoAnalyzerInstance.jackpots()]\n",
    "print(f\"Jackpots List: {jackpotsPerGame}\")\n",
    "\n",
    "plt.bar(games, jackpotsPerGame)\n",
    "plt.title('Montecarlodie Jackpots')\n",
    "plt.xlabel('Game Number')\n",
    "plt.ylabel('Number of Jackpots')\n",
    "plt.show()"
   ]
  },
  {
   "cell_type": "markdown",
   "id": "9f04e9be-8fcf-4ea4-a391-6614608285f8",
   "metadata": {},
   "source": [
    "## Scenario 3: Letters of the Alphabet (7)\n",
    "\n",
    "Task 1. Create a \"die\" of letters from $A$ to $Z$ with weights based on their frequency of usage as found in the data file `english_letters.txt`. Use the frequencies (i.e. raw counts) as weights.\n",
    "\n",
    "- Die correctly instantiated with source file data (1).\n",
    "- Weights properly applied using weight setting method (1)."
   ]
  },
  {
   "cell_type": "code",
   "execution_count": 55,
   "id": "b0ceb771-3cdf-4d8f-8c2c-020806bbb909",
   "metadata": {
    "tags": []
   },
   "outputs": [],
   "source": [
    "import pandas as pd\n",
    "df = pd.read_table(\"english_letters.txt\", sep=\" \", header=None)\n",
    "\n",
    "#Add New Column Called Frequency Weights\n",
    "df['Weights'] = df[1] / df[1].sum()\n",
    "\n",
    "#Set Column names\n",
    "df.columns = ['Face', 'Frequency', 'Weight']\n",
    "\n",
    "alphabetDie: np.array = np.array(df['Face'].to_list(), dtype=str)\n",
    "\n",
    "alphabetDieInstance: Die = Die(alphabetDie)\n",
    "\n",
    "#Set alphabetDie weighting for die\n",
    "for row in df.itertuples():\n",
    "    alphabetDieInstance.change_die_weight(row.Face, row.Weight)\n"
   ]
  },
  {
   "cell_type": "markdown",
   "id": "88e2e14a-6223-470a-a2c8-bca1120d7a5b",
   "metadata": {},
   "source": [
    "Task 2. Play a game involving $4$ of these dice with $1000$ rolls.\n",
    "\n",
    "- Game play method properly called (1)."
   ]
  },
  {
   "cell_type": "code",
   "execution_count": 56,
   "id": "2ae087cc-936d-4f1e-bddb-a7c179d139e0",
   "metadata": {
    "tags": []
   },
   "outputs": [
    {
     "name": "stdout",
     "output_type": "stream",
     "text": [
      "Entering method play: Number of requested rolls (1000)\n",
      "\n",
      "Number of Die in play: 4\n"
     ]
    }
   ],
   "source": [
    "#Build three (3) more Alphabet Die\n",
    "\n",
    "alphabetDie2: np.array = np.array(df['Face'].to_list(), dtype=str)\n",
    "alphabetDie3: np.array = np.array(df['Face'].to_list(), dtype=str)\n",
    "alphabetDie4: np.array = np.array(df['Face'].to_list(), dtype=str)\n",
    "\n",
    "alphabetDie2Instance: Die = Die(alphabetDie2)\n",
    "alphabetDie3Instance: Die = Die(alphabetDie3)\n",
    "alphabetDie4Instance: Die = Die(alphabetDie4)\n",
    "\n",
    "#Set alphabetDie weighting for the three die\n",
    "for row2 in df.itertuples():\n",
    "    #print(f\"Row Index: {row2.Index}\")\n",
    "    #print(f\"Type: {type(row2)}\")\n",
    "    #print(f\"Length: {len(row2)}\")\n",
    "    #print(f\"Face: {row2.Face} - Frequency: {row2.Frequency} - Weight: {row.Weight}\")\n",
    "    alphabetDie2Instance.change_die_weight(row2.Face, row2.Weight)\n",
    "    alphabetDie3Instance.change_die_weight(row2.Face, row2.Weight)\n",
    "    alphabetDie4Instance.change_die_weight(row2.Face, row2.Weight)\n",
    "\n",
    "alphabetDieList: list = [alphabetDieInstance, alphabetDie2Instance, alphabetDie3Instance, alphabetDie4Instance]\n",
    "myAlphabetLtrGameInstance: Game = Game(alphabetDieList)\n",
    "\n",
    "#Let it roll!\n",
    "myAlphabetLtrGameInstance.play(1000)"
   ]
  },
  {
   "cell_type": "markdown",
   "id": "3b9ff800-bf1f-4f66-9d7f-ff57a648e9f0",
   "metadata": {},
   "source": [
    "Task 3. Determine how many permutations in your results are actual English words, based on the vocabulary found in `scrabble_words.txt`.\n",
    "\n",
    "- Use permutation method (1).\n",
    "- Get count as difference between permutations and vocabulary (1)."
   ]
  },
  {
   "cell_type": "code",
   "execution_count": 57,
   "id": "ed1c7fa0-cfa3-4cf4-9fd0-9f84b86b0f64",
   "metadata": {
    "tags": []
   },
   "outputs": [
    {
     "name": "stdout",
     "output_type": "stream",
     "text": [
      "<class 'montecarlodie.game.Game'>\n",
      "Play Results(Wide Format): \n",
      "         Frequency\n",
      "1 2 3 4           \n",
      "A A A C          1\n",
      "    C T          1\n",
      "    N G          1\n",
      "      T          1\n",
      "    V T          1\n",
      "...            ...\n",
      "Y L L I          1\n",
      "  N A I          1\n",
      "    T A          1\n",
      "  R D S          1\n",
      "  W S V          1\n",
      "\n",
      "[987 rows x 1 columns]\n"
     ]
    }
   ],
   "source": [
    "alphabetAnalyzerInstance: Analyzer = Analyzer(myAlphabetLtrGameInstance)\n",
    "print(f\"Play Results(Wide Format): \\n{alphabetAnalyzerInstance.diePermutationCounter()}\")"
   ]
  },
  {
   "cell_type": "markdown",
   "id": "fcf068cf-381a-4b3e-ac3a-0510eb4dbdb0",
   "metadata": {},
   "source": [
    "Task 4. Repeat steps #2 and #3, this time with $5$ dice. How many actual words does this produce? Which produces more?\n",
    "\n",
    "- Successfully repreats steps (1).\n",
    "- Identifies parameter with most found words (1)."
   ]
  },
  {
   "cell_type": "code",
   "execution_count": 58,
   "id": "133f6dff-230f-4e6a-a988-f416bffccbbe",
   "metadata": {
    "tags": []
   },
   "outputs": [
    {
     "name": "stdout",
     "output_type": "stream",
     "text": [
      "Entering method play: Number of requested rolls (1000)\n",
      "\n",
      "Number of Die in play: 5\n"
     ]
    }
   ],
   "source": [
    "alphabetDie2: np.array = np.array(df['Face'].to_list(), dtype=str)\n",
    "alphabetDie3: np.array = np.array(df['Face'].to_list(), dtype=str)\n",
    "alphabetDie4: np.array = np.array(df['Face'].to_list(), dtype=str)\n",
    "alphabetDie5: np.array = np.array(df['Face'].to_list(), dtype=str)\n",
    "\n",
    "alphabetDie2Instance: Die = Die(alphabetDie2)\n",
    "alphabetDie3Instance: Die = Die(alphabetDie3)\n",
    "alphabetDie4Instance: Die = Die(alphabetDie4)\n",
    "alphabetDie5Instance: Die = Die(alphabetDie5)\n",
    "\n",
    "#Set alphabetDie weighting for the three die\n",
    "for row2 in df.itertuples():\n",
    "   \n",
    "    alphabetDie2Instance.change_die_weight(row2.Face, row2.Weight)\n",
    "    alphabetDie3Instance.change_die_weight(row2.Face, row2.Weight)\n",
    "    alphabetDie4Instance.change_die_weight(row2.Face, row2.Weight)\n",
    "    alphabetDie5Instance.change_die_weight(row2.Face, row2.Weight)\n",
    "\n",
    "alphabetDieList: list = [alphabetDieInstance, alphabetDie2Instance, alphabetDie3Instance, alphabetDie4Instance, alphabetDie5Instance]\n",
    "myAlphabetLtrGameInstance: Game = Game(alphabetDieList)\n",
    "\n",
    "#Let it roll!\n",
    "myAlphabetLtrGameInstance.play(1000)"
   ]
  },
  {
   "cell_type": "code",
   "execution_count": 59,
   "id": "a5d2fa87-6c4c-464c-a40d-1e64e16bc5ed",
   "metadata": {
    "tags": []
   },
   "outputs": [
    {
     "name": "stdout",
     "output_type": "stream",
     "text": [
      "<class 'montecarlodie.game.Game'>\n",
      "Play Results(Wide Format): \n",
      "           Frequency\n",
      "1 2 3 4 5           \n",
      "A A A H C          1\n",
      "      R L          1\n",
      "      S T          1\n",
      "      U A          1\n",
      "        O          1\n",
      "...              ...\n",
      "  Y T A E          1\n",
      "        L          1\n",
      "    W S I          1\n",
      "    Y B G          1\n",
      "  Z T I A          1\n",
      "\n",
      "[994 rows x 1 columns]\n"
     ]
    }
   ],
   "source": [
    "alphabetAnalyzerInstance: Analyzer = Analyzer(myAlphabetLtrGameInstance)\n",
    "dfPermResults: pd.DataFrame = alphabetAnalyzerInstance.diePermutationCounter()\n",
    "print(f\"Play Results(Wide Format): \\n{dfPermResults}\")"
   ]
  },
  {
   "cell_type": "code",
   "execution_count": 60,
   "id": "54af4206-22ec-4a70-869d-dbed36750446",
   "metadata": {
    "tags": []
   },
   "outputs": [
    {
     "name": "stdout",
     "output_type": "stream",
     "text": [
      "            Text\n",
      "0             AA\n",
      "1            AAH\n",
      "2          AAHED\n",
      "3         AAHING\n",
      "4           AAHS\n",
      "...          ...\n",
      "279491   ZYTHUMS\n",
      "279492   ZYZZYVA\n",
      "279493  ZYZZYVAS\n",
      "279494       ZZZ\n",
      "279495      ZZZS\n",
      "\n",
      "[279496 rows x 1 columns]\n"
     ]
    }
   ],
   "source": [
    "df_ScrabbleText = pd.read_table(\"scrabble_words.txt\", sep=\" \", header=None)\n",
    "df_ScrabbleText.columns = ['Text']\n",
    "print(df_ScrabbleText)"
   ]
  },
  {
   "cell_type": "code",
   "execution_count": 61,
   "id": "3c4b6c5d-500f-46ac-9a72-0f4c1399192b",
   "metadata": {
    "tags": []
   },
   "outputs": [],
   "source": [
    "# convert the rows of characters to a five character word\n",
    "theList: list = []\n",
    "separator=\"\"\n",
    "for rowWord in dfPermResults.itertuples():\n",
    "    theList.append(separator.join(rowWord.Index))"
   ]
  },
  {
   "cell_type": "code",
   "execution_count": 64,
   "id": "a8a31067-5a6e-4224-9453-92d895e15ab8",
   "metadata": {
    "tags": []
   },
   "outputs": [
    {
     "name": "stdout",
     "output_type": "stream",
     "text": [
      "We have a match on: ADHAN\n",
      "We have a match on: AEDES\n",
      "We have a match on: AGORA\n",
      "We have a match on: AILED\n",
      "We have a match on: AIRNS\n",
      "We have a match on: ALOHA\n",
      "We have a match on: ANTAS\n",
      "We have a match on: ANTRE\n",
      "We have a match on: ARRET\n",
      "We have a match on: ARUMS\n",
      "We have a match on: ASHET\n",
      "We have a match on: AWARE\n",
      "The number of matched words are: 12\n"
     ]
    }
   ],
   "source": [
    "#How many actual words are matcged in the scrabble dataframe?\n",
    "counter: int = 0\n",
    "for item in theList:\n",
    "    if (df_ScrabbleText['Text'].eq(item)).any() == True:\n",
    "        print(f\"We have a match on: {item}\")\n",
    "        counter+=1\n",
    "print(f\"The number of matched words are: {counter}\")"
   ]
  },
  {
   "cell_type": "code",
   "execution_count": 67,
   "id": "e0b21f2f-eb6d-4300-b3bc-2bf42438f4a4",
   "metadata": {},
   "outputs": [],
   "source": []
  }
 ],
 "metadata": {
  "kernelspec": {
   "display_name": "Python 3 (ipykernel)",
   "language": "python",
   "name": "python3"
  },
  "language_info": {
   "codemirror_mode": {
    "name": "ipython",
    "version": 3
   },
   "file_extension": ".py",
   "mimetype": "text/x-python",
   "name": "python",
   "nbconvert_exporter": "python",
   "pygments_lexer": "ipython3",
   "version": "3.11.4"
  },
  "toc-autonumbering": true,
  "widgets": {
   "application/vnd.jupyter.widget-state+json": {
    "state": {},
    "version_major": 2,
    "version_minor": 0
   }
  }
 },
 "nbformat": 4,
 "nbformat_minor": 5
}
